{
 "cells": [
  {
   "cell_type": "code",
   "execution_count": 1,
   "metadata": {},
   "outputs": [
    {
     "name": "stdout",
     "output_type": "stream",
     "text": [
      "   petal_width  sepal_length  sepal_width  petal_length      classes\n",
      "0          5.1           3.5          1.4           0.2  Iris-setosa\n",
      "1          4.9           3.0          1.4           0.2  Iris-setosa\n",
      "2          4.7           3.2          1.3           0.2  Iris-setosa\n",
      "3          4.6           3.1          1.5           0.2  Iris-setosa\n",
      "4          5.0           3.6          1.4           0.2  Iris-setosa\n",
      "5          5.4           3.9          1.7           0.4  Iris-setosa\n",
      "6          4.6           3.4          1.4           0.3  Iris-setosa\n",
      "7          5.0           3.4          1.5           0.2  Iris-setosa\n",
      "8          4.4           2.9          1.4           0.2  Iris-setosa\n",
      "9          4.9           3.1          1.5           0.1  Iris-setosa\n"
     ]
    }
   ],
   "source": [
    "import pandas as pd\n",
    "import math\n",
    "import numpy as np\n",
    "\n",
    "\n",
    "df = pd.read_csv(r'..\\data\\iris.data', \\\n",
    "                 names={'sepal_length',\n",
    "                        'sepal_width',\n",
    "                        'petal_length',\n",
    "                        'petal_width',\n",
    "                        'classes'})\n",
    "\n",
    "#df = pd.read_csv(r'..\\data\\notas.csv\")\n",
    "\n",
    "print(df.head(10))\n",
    "instances = df.shape[0]"
   ]
  },
  {
   "cell_type": "code",
   "execution_count": 2,
   "metadata": {},
   "outputs": [],
   "source": [
    "def continuos_data(df, name_column, entropy):\n",
    "    unique_values = sorted(df[name_column].unique())  ############\n",
    "    continuous_gain = []\n",
    "\n",
    "    for i in range(0, len(unique_values) - 1):\n",
    "        ranking = unique_values[i]\n",
    "\n",
    "        subdata1 = df[df[name_column] <= ranking]\n",
    "        subdata2 = df[df[name_column] > ranking]\n",
    "\n",
    "        subdata1_instances = subdata1.shape[0]\n",
    "        subdata2_instances = subdata2.shape[0]\n",
    "        instances = df.shape[0]\n",
    "\n",
    "        subdata1_probability = subdata1_instances / instances\n",
    "        subdata2_probability = subdata2_instances / instances\n",
    "\n",
    "        ranking_gain = entropy - subdata1_probability * calculate_entropy(\n",
    "            subdata1) - subdata2_probability * calculate_entropy(subdata2)\n",
    "\n",
    "        ranking_split = - subdata1_probability * math.log(subdata1_probability, 2) - subdata2_probability * math.log(\n",
    "            subdata2_probability, 2)\n",
    "\n",
    "        ganancia_ratio = ranking_gain / ranking_split\n",
    "        continuous_gain.append(ganancia_ratio)\n",
    "\n",
    "    max_gain = continuous_gain.index(max(continuous_gain))\n",
    "    max_gain_column = unique_values[max_gain]\n",
    "\n",
    "    df[name_column] = np.where(df[name_column] <= max_gain_column, \"<=\" + str(max_gain_column),\n",
    "                               \">\" + str(max_gain_column))\n",
    "    return df"
   ]
  },
  {
   "cell_type": "code",
   "execution_count": 3,
   "metadata": {},
   "outputs": [],
   "source": [
    "def calculate_entropy(df):\n",
    "    instances = df.shape[0]  ########\n",
    "    entropy = 0\n",
    "    categories = df.iloc[:, -1].value_counts().keys().tolist()\n",
    "\n",
    "    for i in range(0, len(categories)):\n",
    "        probability_category = df.iloc[:, -1].value_counts().tolist()[i] / instances\n",
    "        entropy = entropy - probability_category * math.log(probability_category, 2)\n",
    "\n",
    "    return entropy"
   ]
  },
  {
   "cell_type": "code",
   "execution_count": 4,
   "metadata": {},
   "outputs": [],
   "source": [
    "def entropy_category(df):\n",
    "    entropy = calculate_entropy(df)  \n",
    "    gains = []\n",
    "    gains_ratio = []\n",
    "    columns = df.shape[1]  \n",
    "    instances = df.shape[0]  \n",
    "\n",
    "    for i in range(0, columns - 1):\n",
    "        name_column = df.columns[i]\n",
    "        type_column = df[name_column].dtypes\n",
    "        if type_column != \"object\":  \n",
    "            df = continuos_data(df, name_column, entropy)\n",
    "\n",
    "        column_categories = df[name_column].value_counts()\n",
    "        gain = entropy\n",
    "        split = 0\n",
    "\n",
    "        for j in range(0, len(column_categories)):\n",
    "            actual_category = column_categories.keys().tolist()[j]\n",
    "            sub_data = df[df[name_column] == actual_category]\n",
    "            sub_data_entropy = calculate_entropy(sub_data)\n",
    "            sub_data_instances = sub_data.shape[0]\n",
    "            category_probability = sub_data_instances / instances\n",
    "            gain = gain - category_probability * sub_data_entropy\n",
    "\n",
    "            split = split - category_probability * math.log(category_probability, 2)\n",
    "\n",
    "        gains.append(gain)\n",
    "\n",
    "        gain_ratio = gain / split\n",
    "        gains_ratio.append(gain_ratio)\n",
    "\n",
    "        highest_gain = gains_ratio.index(max(gains_ratio))\n",
    "\n",
    "    name_highest_gain = df.columns[highest_gain]\n",
    "\n",
    "    return name_highest_gain"
   ]
  },
  {
   "cell_type": "code",
   "execution_count": 5,
   "metadata": {},
   "outputs": [
    {
     "name": "stdout",
     "output_type": "stream",
     "text": [
      " Yes sepal_width is >1.9 and  Yes petal_length is <=1.7 and  Yes petal_width is <=7.0 and   Yes  sepal_length  is  <=2.8  , the answer is  Iris-versicolor\n",
      " Yes sepal_width is >1.9 and  Yes petal_length is <=1.7 and  Yes petal_width is <=7.0 and   Yes  sepal_length  is  >2.8  , the answer is  Iris-versicolor\n",
      "   Yes  petal_width  is  >7.0  , the answer is  Iris-virginica\n",
      "  Yes petal_length is >1.7 and   Yes  petal_width  is  >5.9  , the answer is  Iris-virginica\n",
      "  Yes petal_length is >1.7 and  Yes petal_width is <=5.9 and   Yes  sepal_length  is  <=3.0  , the answer is  Iris-virginica\n",
      "  Yes petal_length is >1.7 and  Yes petal_width is <=5.9 and   Yes  sepal_length  is  >3.0  , the answer is  Iris-versicolor\n",
      "   Yes  sepal_width  is  <=1.9  , the answer is  Iris-setosa\n",
      "None\n"
     ]
    }
   ],
   "source": [
    "def tree(df, condition):\n",
    "    df_copy = df.copy()  ######\n",
    "    decision = entropy_category(df)\n",
    "    columns = df.shape[1]\n",
    "\n",
    "    for i in range(0, columns - 1):  ########\n",
    "        name_column = df.columns[i]\n",
    "        # print(\"name_column\")\n",
    "        if name_column != decision:\n",
    "            df[name_column] = df_copy[name_column]\n",
    "\n",
    "    decision_category = df[decision].value_counts().keys().tolist()\n",
    "    for i in range(0, len(decision_category)):\n",
    "        actual_category = decision_category[i]\n",
    "        sub_data = df[df[decision] == actual_category]\n",
    "        sub_data = sub_data.drop(columns=[decision])\n",
    "        # print(sub_data)\n",
    "\n",
    "        if len(sub_data.iloc[:, -1].value_counts().tolist()) == 1:\n",
    "            decision_final = sub_data.iloc[:, -1].value_counts().keys().tolist()[0]\n",
    "            print(condition, \" Yes \", decision, \" is \", actual_category, \" , the answer is \", decision_final)\n",
    "        elif sub_data.shape[1] == 1:  #######################\n",
    "            decision_final = sub_data.iloc[:, -1].value_counts().idxmax()\n",
    "            print(condition, \" Yes \", decision, \" is \", actual_category, \" , the answer is \", decision_final)\n",
    "        else:\n",
    "            condition = str(condition) + \" Yes \" + str(decision) + \" is \" + str(actual_category) + \" and \"\n",
    "            tree(sub_data, condition)\n",
    "            condition = \" \"\n",
    "\n",
    "\n",
    "print(tree(df, \"\"))"
   ]
  }
 ],
 "metadata": {
  "kernelspec": {
   "display_name": "Python 3",
   "language": "python",
   "name": "python3"
  },
  "language_info": {
   "codemirror_mode": {
    "name": "ipython",
    "version": 3
   },
   "file_extension": ".py",
   "mimetype": "text/x-python",
   "name": "python",
   "nbconvert_exporter": "python",
   "pygments_lexer": "ipython3",
   "version": "3.7.6"
  }
 },
 "nbformat": 4,
 "nbformat_minor": 4
}
